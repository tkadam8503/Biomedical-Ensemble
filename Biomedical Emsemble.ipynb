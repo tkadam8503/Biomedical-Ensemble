{
 "cells": [
  {
   "cell_type": "markdown",
   "id": "5aaf9501-ead8-49b5-8b4a-99780a595f3f",
   "metadata": {},
   "source": [
    "# 🧬 Robust Biomedical Image Classification with a Lightweight Ensemble\n",
    "\n",
    "This project tackles medical image recognition under **practical constraints**: limited compute, unstable networks, and Windows quirks. We design a **failsafe training notebook** that prefers OCTMNIST but will gracefully fall back to alternatives so that **the demo always runs**. The final system blends three models into a single **ensemble** that improves robustness over any individual network.\n"
   ]
  },
  {
   "cell_type": "markdown",
   "id": "2157772d-59a8-4528-ae99-46cd34c45da7",
   "metadata": {},
   "source": [
    "## 🎯 Problem Statement\n",
    "\n",
    "Medical imaging pipelines often need to run in constrained environments where datasets or pretrained models may be unavailable. Our goal is to:\n",
    "- Train a **reliable classifier** for grayscale images (OCT retina slices, or fallbacks),\n",
    "- Keep the code **small, readable, and Windows-safe**, and\n",
    "- Produce **stable results** via an **ensemble** that reduces variance across models.\n",
    "\n",
    "### Key Objectives\n",
    "1. **Portability:** No brittle dependencies; works on CPU/Windows.\n",
    "2. **Fallbacks:** OCTMNIST → FashionMNIST → Synthetic, selected automatically.\n",
    "3. **Simplicity:** Minimal code, small cells, clear explanations.\n",
    "4. **Robustness:** Confidence-weighted ensemble for stronger predictions.\n"
   ]
  },
  {
   "cell_type": "markdown",
   "id": "fd2a2d3d-1c52-46bb-acee-cd86378533a2",
   "metadata": {},
   "source": [
    "## 🧪 Methodology\n",
    "\n",
    "1. **Data Loading (with Fallbacks):** Attempt OCTMNIST → FashionMNIST → Synthetic.  \n",
    "2. **Transforms (Windows-safe):** No `lambda`; use a top-level `AddGaussianNoise` class to avoid pickling issues.  \n",
    "3. **Models:**  \n",
    "   - **ResNet18** adapted for 1-channel input  \n",
    "   - **DenseNet121** patched for 28×28 (stride=1, no initial pooling)  \n",
    "   - **SimpleCNN** lightweight baseline  \n",
    "4. **Training:** Cross-entropy loss, Adam optimizer, small number of epochs for quick runs.  \n",
    "5. **Evaluation:** Validation accuracy and loss per model.  \n",
    "6. **Ensemble:** Confidence-weighted average of softmax outputs.  \n",
    "7. **Artifacts:** Save checkpoints to `./checkpoints_oct`.\n",
    "\n"
   ]
  },
  {
   "cell_type": "code",
   "execution_count": 1,
   "id": "afeb1d8a-c462-4bd9-bc87-796114818806",
   "metadata": {},
   "outputs": [
    {
     "name": "stdout",
     "output_type": "stream",
     "text": [
      "Note: you may need to restart the kernel to use updated packages.\n"
     ]
    },
    {
     "name": "stderr",
     "output_type": "stream",
     "text": [
      "\n",
      "[notice] A new release of pip is available: 24.0 -> 25.2\n",
      "[notice] To update, run: python.exe -m pip install --upgrade pip\n"
     ]
    }
   ],
   "source": [
    "%pip install -q torch torchvision medmnist tqdm scikit-learn"
   ]
  },
  {
   "cell_type": "code",
   "execution_count": 2,
   "id": "95105009-f660-4e77-bfab-cecd70064585",
   "metadata": {},
   "outputs": [],
   "source": [
    "import os, random, math, time, json, pathlib, numpy as np\n",
    "import torch, torch.nn as nn, torch.nn.functional as F\n",
    "from torch.utils.data import DataLoader, Subset, TensorDataset\n",
    "import torchvision.transforms as T\n",
    "from tqdm import tqdm\n",
    "import matplotlib.pyplot as plt\n",
    "from typing import Tuple, Dict\n",
    "from torchvision.datasets import FashionMNIST\n",
    "import medmnist\n",
    "from medmnist import OCTMNIST\n",
    "import torch\n",
    "from torchvision.models import densenet121"
   ]
  },
  {
   "cell_type": "markdown",
   "id": "ee11a8a6-12c6-44bc-95fb-c2676b698651",
   "metadata": {},
   "source": [
    "## ⚙️ Training Setup\n",
    "\n",
    "- **Optimizer:** Adam (lr=1e-3)\n",
    "- **Loss:** Cross-Entropy\n",
    "- **Batch Sizes:** 64 (train), 128 (val)\n",
    "- **Epochs:** 1 by default (fast demo); scale up for better accuracy\n",
    "- **Subsets:** `TRAIN_SUBSET=2000`, `VAL_SUBSET=500` to keep runs quick in demos\n",
    "\n",
    "### Why these choices?\n",
    "The emphasis is on **reproducibility and portability** over raw leaderboard performance. You can dial up epochs and remove subset limits when running on more capable hardware.\n"
   ]
  },
  {
   "cell_type": "code",
   "execution_count": 3,
   "id": "6c619d27-de9f-494d-b58c-229a1b0f8693",
   "metadata": {},
   "outputs": [
    {
     "name": "stdout",
     "output_type": "stream",
     "text": [
      "Device: cpu\n"
     ]
    }
   ],
   "source": [
    "SEED = 42\n",
    "random.seed(SEED); np.random.seed(SEED); torch.manual_seed(SEED)\n",
    "\n",
    "DEVICE = \"cuda\" if torch.cuda.is_available() else \"cpu\"\n",
    "PRINT_EVERY = 50\n",
    "\n",
    "# training config\n",
    "BATCH_SIZE = 64\n",
    "VAL_BATCH = 128\n",
    "EPOCHS = 1               # increase for better accuracy\n",
    "TRAIN_SUBSET = 2000      # set None to use full training set\n",
    "VAL_SUBSET = 500\n",
    "\n",
    "CHECKPOINT_DIR = \"./checkpoints_oct\"\n",
    "os.makedirs(CHECKPOINT_DIR, exist_ok=True)\n",
    "print(\"Device:\", DEVICE)"
   ]
  },
  {
   "cell_type": "markdown",
   "id": "1c2220f5-223a-40f3-9905-ed1ae7548c59",
   "metadata": {},
   "source": [
    "## 🗂️ Datasets\n",
    "\n",
    "### OCTMNIST (preferred)\n",
    "- **Domain:** Optical Coherence Tomography (OCT) retina images.\n",
    "- **Format:** Grayscale, 28×28 (MedMNIST version).\n",
    "- **Task:** Multi-class disease classification.\n",
    "- **Why here:** Realistic clinical modality; lightweight benchmark.\n",
    "\n",
    "### FashionMNIST (fallback)\n",
    "- **Domain:** Clothing item images.\n",
    "- **Purpose:** Stand-in when medical data cannot be downloaded; same grayscale 28×28 format.\n",
    "\n",
    "### Synthetic Blobs (last resort)\n",
    "- **Domain:** Generated shapes with noise.\n",
    "- **Purpose:** Guarantees the full training/evaluation loop runs even offline.\n",
    "- **Benefit:** Lets you validate code paths, transforms, loss functions, and the ensemble logic.\n",
    "\n",
    "> The notebook selects the **first available** dataset in that order and reports which one you’re using.\n"
   ]
  },
  {
   "cell_type": "code",
   "execution_count": 4,
   "id": "3bbc6433-60bb-41f5-bf3d-44d6e3861490",
   "metadata": {},
   "outputs": [
    {
     "name": "stdout",
     "output_type": "stream",
     "text": [
      "[data] Loaded OCTMNIST.\n",
      "Dataset: OCTMNIST | classes: 4\n"
     ]
    }
   ],
   "source": [
    "\n",
    "def load_datasets() -> Tuple[torch.utils.data.Dataset, torch.utils.data.Dataset, Dict]:\n",
    "    info = {\"name\": None, \"num_classes\": None, \"as_rgb\": False, \"img_size\": 28, \"labels\": None}\n",
    "\n",
    "    # 1) Try OCTMNIST\n",
    "    try:\n",
    "        # placeholder transforms (will be replaced by safe versions in the next cell)\n",
    "        transform_train = T.ToTensor()\n",
    "        transform_eval  = T.ToTensor()\n",
    "\n",
    "        train_ds = OCTMNIST(split=\"train\", transform=transform_train, download=True, as_rgb=False)\n",
    "        val_ds   = OCTMNIST(split=\"val\",   transform=transform_eval,   download=True, as_rgb=False)\n",
    "\n",
    "        info[\"name\"] = \"OCTMNIST\"\n",
    "        info[\"num_classes\"] = len(medmnist.INFO[\"octmnist\"][\"label\"])\n",
    "        info[\"labels\"] = medmnist.INFO[\"octmnist\"][\"label\"]\n",
    "        print(\"[data] Loaded OCTMNIST.\")\n",
    "        return train_ds, val_ds, info\n",
    "    except Exception as e:\n",
    "        print(\"[data] OCTMNIST unavailable, reason:\", e)\n",
    "\n",
    "    # 2) Fallback to FashionMNIST (grayscale 28x28, 10 classes)\n",
    "    try:\n",
    "        transform_train = T.ToTensor()\n",
    "        transform_eval  = T.ToTensor()\n",
    "        train_ds = FashionMNIST(root=\"./data\", train=True,  download=True, transform=transform_train)\n",
    "        val_ds   = FashionMNIST(root=\"./data\", train=False, download=True, transform=transform_eval)\n",
    "        info[\"name\"] = \"FashionMNIST\"\n",
    "        info[\"num_classes\"] = 10\n",
    "        info[\"labels\"] = {i: str(i) for i in range(10)}\n",
    "        print(\"[data] Loaded FashionMNIST.\")\n",
    "        return train_ds, val_ds, info\n",
    "    except Exception as e:\n",
    "        print(\"[data] FashionMNIST unavailable, reason:\", e)\n",
    "\n",
    "    # 3) Final fallback: synthetic blobs (4 classes of noisy blobs, 28x28)\n",
    "    print(\"[data] Using synthetic dataset fallback.\")\n",
    "    n_train, n_val, n_classes = 1200, 300, 4\n",
    "    H, W = 28, 28\n",
    "    def make_blobs(n, classes):\n",
    "        xs, ys = [], []\n",
    "        for c in range(classes):\n",
    "            for _ in range(n//classes):\n",
    "                img = torch.zeros(1, H, W)\n",
    "                rr, cc = torch.meshgrid(torch.arange(H), torch.arange(W), indexing=\"ij\")\n",
    "                cx, cy = 7 + c*5, 7 + (c%2)*10\n",
    "                rad = 5 + (c%3)\n",
    "                mask = ((rr - cx)**2 + (cc - cy)**2) < rad*rad\n",
    "                img[0][mask] = 1.0\n",
    "                img += 0.15*torch.randn_like(img)\n",
    "                img.clamp_(0,1)\n",
    "                xs.append(img)\n",
    "                ys.append(c)\n",
    "        return torch.stack(xs), torch.tensor(ys)\n",
    "    Xtr, ytr = make_blobs(n_train, n_classes)\n",
    "    Xva, yva = make_blobs(n_val, n_classes)\n",
    "    train_ds = TensorDataset(Xtr, ytr)\n",
    "    val_ds   = TensorDataset(Xva, yva)\n",
    "    info[\"name\"] = \"SyntheticBlobs28x28\"\n",
    "    info[\"num_classes\"] = n_classes\n",
    "    info[\"labels\"] = {i: f\"class_{i}\" for i in range(n_classes)}\n",
    "    return train_ds, val_ds, info\n",
    "\n",
    "train_ds, val_ds, DATAINFO = load_datasets()\n",
    "NUM_CLASSES = DATAINFO[\"num_classes\"]\n",
    "print(\"Dataset:\", DATAINFO[\"name\"], \"| classes:\", NUM_CLASSES)\n"
   ]
  },
  {
   "cell_type": "markdown",
   "id": "67a1ab57-1dfc-455d-88df-00a501ded2b9",
   "metadata": {},
   "source": [
    "## 🤝 Ensemble Strategy\n",
    "\n",
    "We compute each model’s softmax, then **weight** it by its **per-sample confidence** (max softmax value):\n",
    "\n",
    "\\[\n",
    "\\text{blend} = \\sum_{m} w_m \\cdot \\text{softmax}_m, \\quad\n",
    "w_m = \\frac{\\max(\\text{softmax}_m)}{\\sum_j \\max(\\text{softmax}_j)}.\n",
    "\\]\n",
    "\n",
    "This gives more influence to models that are **more certain** about the current sample, improving stability without complex meta-learners.\n"
   ]
  },
  {
   "cell_type": "code",
   "execution_count": 5,
   "id": "bae83227-3bad-4766-a98a-bd6a6382b7b5",
   "metadata": {},
   "outputs": [
    {
     "name": "stdout",
     "output_type": "stream",
     "text": [
      "Transforms set (Windows-safe).\n"
     ]
    }
   ],
   "source": [
    "# Replace any lambda transforms with top-level classes (Windows pickling safe)\n",
    "import torch\n",
    "import torchvision.transforms as T\n",
    "\n",
    "class AddGaussianNoise(object):\n",
    "    def __init__(self, std=0.05): self.std = std\n",
    "    def __call__(self, x): return (x + self.std * torch.randn_like(x)).clamp(0, 1)\n",
    "\n",
    "transform_train_safe = T.Compose([\n",
    "    T.ToTensor(),\n",
    "    T.RandomApply([T.GaussianBlur(3)], p=0.3),\n",
    "    T.RandomApply([AddGaussianNoise(std=0.05)], p=0.4),\n",
    "    T.Normalize([.5],[.5]),\n",
    "])\n",
    "transform_eval_safe = T.Compose([\n",
    "    T.ToTensor(),\n",
    "    T.Normalize([.5],[.5]),\n",
    "])\n",
    "\n",
    "# Apply to datasets that support .transform (TensorDataset doesn’t use it, which is fine)\n",
    "if hasattr(train_ds, \"transform\"): train_ds.transform = transform_train_safe\n",
    "if hasattr(val_ds, \"transform\"):   val_ds.transform   = transform_eval_safe\n",
    "\n",
    "print(\"Transforms set (Windows-safe).\")\n",
    "\n"
   ]
  },
  {
   "cell_type": "code",
   "execution_count": 6,
   "id": "28c44b4b-1469-4f1e-8b5b-ed09025b39ff",
   "metadata": {},
   "outputs": [
    {
     "name": "stdout",
     "output_type": "stream",
     "text": [
      "Loaders ready | num_workers = 0\n"
     ]
    },
    {
     "data": {
      "text/plain": [
       "(2000, 500)"
      ]
     },
     "execution_count": 6,
     "metadata": {},
     "output_type": "execute_result"
    }
   ],
   "source": [
    "def build_loaders_safe(train_ds, val_ds, batch_size=64, val_batch=128):\n",
    "    # Optional subsetting for speed\n",
    "    if isinstance(TRAIN_SUBSET, int):\n",
    "        train_ds = Subset(train_ds, list(range(min(TRAIN_SUBSET, len(train_ds)))))\n",
    "    if isinstance(VAL_SUBSET, int):\n",
    "        val_ds   = Subset(val_ds,   list(range(min(VAL_SUBSET, len(val_ds)))))\n",
    "\n",
    "    # Windows can’t pickle local callables easily → avoid worker processes\n",
    "    nw = 0 if os.name == \"nt\" else 2\n",
    "\n",
    "    train_loader = DataLoader(train_ds, batch_size=batch_size, shuffle=True,\n",
    "                              num_workers=nw, pin_memory=(DEVICE==\"cuda\"))\n",
    "    val_loader   = DataLoader(val_ds,   batch_size=val_batch,  shuffle=False,\n",
    "                              num_workers=nw, pin_memory=(DEVICE==\"cuda\"))\n",
    "    return train_loader, val_loader\n",
    "\n",
    "train_loader, val_loader = build_loaders_safe(train_ds, val_ds, batch_size=BATCH_SIZE, val_batch=VAL_BATCH)\n",
    "print(\"Loaders ready | num_workers =\", 0 if os.name==\"nt\" else 2)\n",
    "len(train_loader.dataset), len(val_loader.dataset)\n",
    "\n"
   ]
  },
  {
   "cell_type": "markdown",
   "id": "86f0365d-92f8-4638-87a5-fa3b34e8879d",
   "metadata": {},
   "source": [
    "## 🧱 Architectures\n",
    "\n",
    "- **ResNet18 (1-channel):** Replace the first conv layer to accept grayscale input; keep the rest unchanged.\n",
    "- **DenseNet121 (28×28 patch):** First conv `3×3, stride=1, pad=1`; remove `pool0` to avoid over-downsampling on small images.\n",
    "- **SimpleCNN:** 3 conv blocks with ReLU + pooling, global average pooling, linear classifier. Tiny but dependable.\n",
    "\n",
    "> Why an ensemble? Individual models may fail unpredictably on niche patterns; averaging calibrated probabilities **reduces variance** and often yields more stable accuracy.\n"
   ]
  },
  {
   "cell_type": "code",
   "execution_count": 7,
   "id": "5b28ab7c-d3e1-4340-af6a-e321687e4c7a",
   "metadata": {},
   "outputs": [],
   "source": [
    "from torchvision.models import resnet18, densenet121\n",
    "\n",
    "class SimpleCNN(nn.Module):\n",
    "    def __init__(self, num_classes):\n",
    "        super().__init__()\n",
    "        self.net = nn.Sequential(\n",
    "            nn.Conv2d(1, 16, 3, padding=1), nn.ReLU(), nn.MaxPool2d(2),\n",
    "            nn.Conv2d(16, 32, 3, padding=1), nn.ReLU(), nn.MaxPool2d(2),\n",
    "            nn.Conv2d(32, 64, 3, padding=1), nn.ReLU(), nn.AdaptiveAvgPool2d(1)\n",
    "        )\n",
    "        self.fc = nn.Linear(64, num_classes)\n",
    "    def forward(self, x):\n",
    "        x = self.net(x); x = x.flatten(1); return self.fc(x)\n"
   ]
  },
  {
   "cell_type": "code",
   "execution_count": 8,
   "id": "ee27a0de-9064-4f1a-8d31-2ef436f5f881",
   "metadata": {},
   "outputs": [],
   "source": [
    "def make_resnet18(num_classes):\n",
    "    m = resnet18(weights=None)\n",
    "    m.conv1 = nn.Conv2d(1, 64, kernel_size=7, stride=2, padding=3, bias=False)  # 1-channel\n",
    "    m.fc = nn.Linear(m.fc.in_features, num_classes)\n",
    "    return m"
   ]
  },
  {
   "cell_type": "code",
   "execution_count": 9,
   "id": "9a281a21-aad5-49d5-a43b-60f766b682e3",
   "metadata": {},
   "outputs": [],
   "source": [
    "def make_densenet121(num_classes):\n",
    "    m = densenet121(weights=None)\n",
    "    m.features.conv0 = nn.Conv2d(1, 64, kernel_size=7, stride=2, padding=3, bias=False)  # 1-channel\n",
    "    m.classifier = nn.Linear(m.classifier.in_features, num_classes)\n",
    "    return m"
   ]
  },
  {
   "cell_type": "code",
   "execution_count": 10,
   "id": "4dd2c03f-b22f-4594-b2a1-eabe95edbeac",
   "metadata": {},
   "outputs": [
    {
     "name": "stdout",
     "output_type": "stream",
     "text": [
      "Models: ResNet DenseNet SimpleCNN\n"
     ]
    }
   ],
   "source": [
    "model_a = make_resnet18(NUM_CLASSES).to(DEVICE)\n",
    "model_b = make_densenet121(NUM_CLASSES).to(DEVICE)\n",
    "model_c = SimpleCNN(NUM_CLASSES).to(DEVICE)\n",
    "\n",
    "print(\"Models:\", type(model_a).__name__, type(model_b).__name__, type(model_c).__name__)"
   ]
  },
  {
   "cell_type": "code",
   "execution_count": 11,
   "id": "34677b03-e70a-4631-97b6-8512aa61b299",
   "metadata": {},
   "outputs": [],
   "source": [
    "def _fix_inputs(x):\n",
    "    \"\"\"Accept (N,H,W) -> (N,1,H,W) and tuples/lists from some datasets.\"\"\"\n",
    "    if isinstance(x, (list, tuple)):\n",
    "        x = x[0]\n",
    "    if x.ndim == 3:\n",
    "        x = x.unsqueeze(1)   # (N,H,W) -> (N,1,H,W)\n",
    "    return x\n"
   ]
  },
  {
   "cell_type": "code",
   "execution_count": 12,
   "id": "7998e9a8-af04-4382-b242-95e8a6c83244",
   "metadata": {},
   "outputs": [],
   "source": [
    "def _fix_targets(y):\n",
    "    \"\"\"Accept (N,), (N,1), one-hot (N,C), numpy arrays, or lists -> (N,) long.\"\"\"\n",
    "    if not isinstance(y, torch.Tensor):\n",
    "        y = torch.as_tensor(y)\n",
    "    if y.ndim > 1:\n",
    "        # If one-hot (float types & >1 classes), convert to indices\n",
    "        if y.ndim == 2 and y.size(-1) > 1 and y.dtype in (\n",
    "            torch.float32, torch.float64, torch.float16, torch.bfloat16\n",
    "        ):\n",
    "            y = y.argmax(dim=-1)\n",
    "        else:\n",
    "            y = y.squeeze(-1)\n",
    "    return y.long()"
   ]
  },
  {
   "cell_type": "code",
   "execution_count": 13,
   "id": "ef7647c2-2d80-49c0-b477-5859df809214",
   "metadata": {},
   "outputs": [],
   "source": [
    "def make_densenet121_28x28(num_classes: int):\n",
    "    m = densenet121(weights=None)\n",
    "    # 1-channel input + keep resolution: 3x3, stride=1, padding=1\n",
    "    m.features.conv0 = nn.Conv2d(1, 64, kernel_size=3, stride=1, padding=1, bias=False)\n",
    "    # remove the early 3x3 avg pool that would shrink 28x28 too much\n",
    "    m.features.pool0 = nn.Identity()\n",
    "    # classifier for our number of classes\n",
    "    m.classifier = nn.Linear(m.classifier.in_features, num_classes)\n",
    "    return m"
   ]
  },
  {
   "cell_type": "code",
   "execution_count": 14,
   "id": "18730153-6f99-4230-afea-2d2e6165cf59",
   "metadata": {},
   "outputs": [],
   "source": [
    "model_b = make_densenet121_28x28(NUM_CLASSES).to(DEVICE)\n",
    "opt_b = torch.optim.Adam(model_b.parameters(), lr=1e-3)"
   ]
  },
  {
   "cell_type": "code",
   "execution_count": 15,
   "id": "6735f325-0e65-4954-af9c-cb5c0305a884",
   "metadata": {},
   "outputs": [],
   "source": [
    "def train_one_epoch(model, loader, opt, print_every=50, device=None):\n",
    "    device = device or (\"cuda\" if torch.cuda.is_available() else \"cpu\")\n",
    "    model.train()\n",
    "    ce = nn.CrossEntropyLoss()\n",
    "    running = 0.0\n",
    "    for i, (x, y) in enumerate(tqdm(loader, leave=False)):\n",
    "        x = _fix_inputs(x).to(device)\n",
    "        y = _fix_targets(y).to(device)\n",
    "\n",
    "        opt.zero_grad()\n",
    "        logits = model(x)\n",
    "        loss = ce(logits, y)\n",
    "        loss.backward()\n",
    "        opt.step()\n",
    "\n",
    "        running += loss.item()\n",
    "        if (i + 1) % print_every == 0:\n",
    "            print(f\"step {i+1}/{len(loader)} | loss={running/(i+1):.4f}\")\n",
    "    return running / max(1, len(loader))"
   ]
  },
  {
   "cell_type": "code",
   "execution_count": 16,
   "id": "b85f8ca6-b0dd-4be6-be4f-54512f654e73",
   "metadata": {},
   "outputs": [],
   "source": [
    "@torch.no_grad()\n",
    "def evaluate(model, loader, device=None):\n",
    "    device = device or (\"cuda\" if torch.cuda.is_available() else \"cpu\")\n",
    "    model.eval()\n",
    "    ce = nn.CrossEntropyLoss()\n",
    "    total, correct, total_loss = 0, 0, 0.0\n",
    "    for x, y in loader:\n",
    "        x = _fix_inputs(x).to(device)\n",
    "        y = _fix_targets(y).to(device)\n",
    "        logits = model(x)\n",
    "        loss = ce(logits, y)\n",
    "        total_loss += loss.item()\n",
    "        pred = logits.argmax(1)\n",
    "        correct += (pred == y).sum().item()\n",
    "        total += y.numel()\n",
    "    return correct / max(1, total), total_loss / max(1, len(loader))"
   ]
  },
  {
   "cell_type": "code",
   "execution_count": 17,
   "id": "24559efe-2ef0-4e58-801a-80b56c0e30da",
   "metadata": {},
   "outputs": [],
   "source": [
    "@torch.no_grad()\n",
    "def evaluate_ensemble(models, loader, device=None):\n",
    "    device = device or (\"cuda\" if torch.cuda.is_available() else \"cpu\")\n",
    "    for m in models: m.eval()\n",
    "    total, correct = 0, 0\n",
    "    for x, y in loader:\n",
    "        x = _fix_inputs(x).to(device)\n",
    "        y = _fix_targets(y).to(device)\n",
    "        probs = []\n",
    "        for m in models:\n",
    "            logits = m(x)\n",
    "            probs.append(F.softmax(logits, dim=1))\n",
    "        stacked = torch.stack(probs)                          # (M, B, C)\n",
    "        conf = stacked.max(dim=2).values                      # (M, B)\n",
    "        weights = conf / (conf.sum(dim=0, keepdim=True) + 1e-9)\n",
    "        blended = (stacked * weights.unsqueeze(2)).sum(dim=0) # (B, C)\n",
    "        pred = blended.argmax(1)\n",
    "        correct += (pred == y).sum().item()\n",
    "        total += y.numel()\n",
    "    return correct / max(1, total)"
   ]
  },
  {
   "cell_type": "markdown",
   "id": "177a6102-3c03-4627-9e7a-8eec7ad74931",
   "metadata": {},
   "source": [
    "## 📈 Results\n",
    "\n",
    "> *Fill these after training on your machine.*\n",
    "\n",
    "- **Dataset used:** `OCTMNIST | FashionMNIST | SyntheticBlobs`\n",
    "- **ResNet18:** `acc = ___`, `val loss = ___`\n",
    "- **DenseNet121:** `acc = ___`, `val loss = ___`\n",
    "- **SimpleCNN:** `acc = ___`, `val loss = ___`\n",
    "- **Ensemble:** `acc = ___`\n",
    "\n",
    "### Observations\n",
    "- The ensemble typically outperforms the weakest model and is often close to the best, while being **more consistent** across runs.\n",
    "- DenseNet patch is essential for 28×28 inputs; otherwise early pooling collapses the spatial map.\n"
   ]
  },
  {
   "cell_type": "code",
   "execution_count": 18,
   "id": "39d3cecd-09cb-4cb0-996e-1ae3863e02a9",
   "metadata": {},
   "outputs": [
    {
     "name": "stdout",
     "output_type": "stream",
     "text": [
      "\n",
      "[Epoch 1/1] ResNet18\n"
     ]
    },
    {
     "name": "stderr",
     "output_type": "stream",
     "text": [
      "                                                                                                                       \r"
     ]
    },
    {
     "name": "stdout",
     "output_type": "stream",
     "text": [
      "ResNet18  val acc: 0.524 | loss: 1.238\n",
      "\n",
      "[Epoch 1/1] DenseNet121\n"
     ]
    },
    {
     "name": "stderr",
     "output_type": "stream",
     "text": [
      "                                                                                                                       \r"
     ]
    },
    {
     "name": "stdout",
     "output_type": "stream",
     "text": [
      "DenseNet121 val acc: 0.608 | loss: 1.047\n",
      "\n",
      "[Epoch 1/1] SimpleCNN\n"
     ]
    },
    {
     "name": "stderr",
     "output_type": "stream",
     "text": [
      "                                                                                                                       \r"
     ]
    },
    {
     "name": "stdout",
     "output_type": "stream",
     "text": [
      "SimpleCNN  val acc: 0.468 | loss: 1.188\n",
      "\n",
      "Ensemble accuracy (quick run): 0.636\n"
     ]
    }
   ],
   "source": [
    "opt_a = torch.optim.Adam(model_a.parameters(), lr=1e-3)\n",
    "opt_b = torch.optim.Adam(model_b.parameters(), lr=1e-3)\n",
    "opt_c = torch.optim.Adam(model_c.parameters(), lr=1e-3)\n",
    "\n",
    "for e in range(EPOCHS):\n",
    "    print(f\"\\n[Epoch {e+1}/{EPOCHS}] ResNet18\")\n",
    "    train_one_epoch(model_a, train_loader, opt_a)\n",
    "    acc, val_loss = evaluate(model_a, val_loader)\n",
    "    print(f\"ResNet18  val acc: {acc:.3f} | loss: {val_loss:.3f}\")\n",
    "\n",
    "    print(f\"\\n[Epoch {e+1}/{EPOCHS}] DenseNet121\")\n",
    "    train_one_epoch(model_b, train_loader, opt_b)\n",
    "    acc, val_loss = evaluate(model_b, val_loader)\n",
    "    print(f\"DenseNet121 val acc: {acc:.3f} | loss: {val_loss:.3f}\")\n",
    "\n",
    "    print(f\"\\n[Epoch {e+1}/{EPOCHS}] SimpleCNN\")\n",
    "    train_one_epoch(model_c, train_loader, opt_c)\n",
    "    acc, val_loss = evaluate(model_c, val_loader)\n",
    "    print(f\"SimpleCNN  val acc: {acc:.3f} | loss: {val_loss:.3f}\")\n",
    "\n",
    "ens_acc = evaluate_ensemble([model_a, model_b, model_c], val_loader)\n",
    "print(f\"\\nEnsemble accuracy (quick run): {ens_acc:.3f}\")\n"
   ]
  },
  {
   "cell_type": "code",
   "execution_count": 19,
   "id": "3d34580e-5dde-476e-84ea-d9ca42b3d2fc",
   "metadata": {},
   "outputs": [
    {
     "name": "stdout",
     "output_type": "stream",
     "text": [
      "Saved ./checkpoints_oct\\OCTMNIST_resnet18.pt\n",
      "Saved ./checkpoints_oct\\OCTMNIST_densenet121.pt\n",
      "Saved ./checkpoints_oct\\OCTMNIST_simplecnn.pt\n"
     ]
    }
   ],
   "source": [
    "def save_model(model, name):\n",
    "    path = os.path.join(CHECKPOINT_DIR, f\"{name}.pt\")\n",
    "    torch.save(model.state_dict(), path)\n",
    "    print(\"Saved\", path)\n",
    "\n",
    "save_model(model_a, f\"{DATAINFO['name']}_resnet18\")\n",
    "save_model(model_b, f\"{DATAINFO['name']}_densenet121\")\n",
    "save_model(model_c, f\"{DATAINFO['name']}_simplecnn\")\n"
   ]
  },
  {
   "cell_type": "code",
   "execution_count": 20,
   "id": "0b118b89-115d-4265-8270-8b7147ef52cf",
   "metadata": {},
   "outputs": [
    {
     "data": {
      "image/png": "[encoded data removed]",
      "text/plain": [
       "<Figure size 1600x200 with 8 Axes>"
      ]
     },
     "metadata": {},
     "output_type": "display_data"
    }
   ],
   "source": [
    "\n",
    "def show_batch(loader, n=8):\n",
    "    x, y = next(iter(loader))\n",
    "    if isinstance(x, (list, tuple)): x = x[0]\n",
    "    if x.ndim == 3: x = x.unsqueeze(1)\n",
    "    imgs = x.clone()\n",
    "    # de-normalize for display\n",
    "    imgs = imgs * 0.5 + 0.5\n",
    "    cols = min(n, 8); rows = int(math.ceil(n/cols))\n",
    "    plt.figure(figsize=(2*cols, 2*rows))\n",
    "    for i in range(min(n, imgs.shape[0])):\n",
    "        plt.subplot(rows, cols, i+1)\n",
    "        plt.imshow(imgs[i,0].cpu(), cmap=\"gray\")\n",
    "        lbl = int(y[i]) if hasattr(y, \"__len__\") else int(y)\n",
    "        plt.title(f\"y={lbl}\")\n",
    "        plt.axis(\"off\")\n",
    "    plt.tight_layout(); plt.show()\n",
    "\n",
    "show_batch(val_loader, n=8)\n"
   ]
  },
  {
   "cell_type": "markdown",
   "id": "344f8f06-2aa2-4bc6-bba5-b96be0a699c2",
   "metadata": {},
   "source": [
    "## 🩻 Error Analysis (Checklist)\n",
    "\n",
    "Use misclassified samples to guide improvements:\n",
    "- Confusions across **visually similar** classes\n",
    "- Sensitivity to **noise/contrast**\n",
    "- Failure cases under **low-contrast lesions**\n",
    "- Over-confidence: high softmax but wrong label\n",
    "\n",
    "### Next actions\n",
    "- Add **augmentations** (e.g., `RandomAffine`, `Contrast`, or `RandAugment`)\n",
    "- Improve calibration (temperature scaling, label smoothing)\n",
    "- Try **Cosine LR** or longer training\n",
    "- Consider **k-fold ensembling** or a small **stacking head**\n"
   ]
  },
  {
   "cell_type": "code",
   "execution_count": 21,
   "id": "ab86aba0-f20b-4d4b-a424-8ea1d3c7e881",
   "metadata": {},
   "outputs": [
    {
     "name": "stdout",
     "output_type": "stream",
     "text": [
      "Pred: 0 | True: 3\n"
     ]
    }
   ],
   "source": [
    "@torch.no_grad()\n",
    "def predict_ensemble(x: torch.Tensor):\n",
    "    \"\"\"x: (H,W) or (1,H,W) or (1,1,H,W) in [0,1].\"\"\"\n",
    "    if x.ndim == 2: x = x.unsqueeze(0).unsqueeze(0)\n",
    "    if x.ndim == 3: x = x.unsqueeze(0)         # (1,1,H,W)\n",
    "    if x.shape[1] != 1: x = x[:, :1, ...]\n",
    "    x = (x.to(DEVICE) - 0.5) / 0.5\n",
    "    models = [model_a, model_b, model_c]\n",
    "    for m in models: m.eval()\n",
    "    probs = []\n",
    "    for m in models:\n",
    "        logits = m(x)\n",
    "        probs.append(F.softmax(logits, dim=1))\n",
    "    stacked = torch.stack(probs)                         # (M, 1, C)\n",
    "    conf = stacked.max(dim=2).values                     # (M, 1)\n",
    "    weights = conf / (conf.sum(dim=0, keepdim=True) + 1e-9)\n",
    "    blended = (stacked * weights.unsqueeze(2)).sum(dim=0)  # (1, C)\n",
    "    pred = blended.argmax(1).item()\n",
    "    return pred, blended.squeeze(0).cpu().numpy()\n",
    "\n",
    "# Demo on a validation sample\n",
    "xb, yb = next(iter(val_loader))\n",
    "x0, y0 = (xb[0] if isinstance(xb, torch.Tensor) else xb[0][0]), (int(yb[0]) if hasattr(yb, \"__len__\") else int(yb))\n",
    "pred, prob = predict_ensemble(x0)\n",
    "print(\"Pred:\", pred, \"| True:\", y0)\n"
   ]
  },
  {
   "cell_type": "markdown",
   "id": "1e651ba1-a8a5-4602-bd91-a15228941198",
   "metadata": {},
   "source": [
    "## ✅ Final Notes\n",
    "\n",
    "This notebook builds a **robust, portable image-classification pipeline** for grayscale medical images. It prefers **OCTMNIST (MedMNIST)** and automatically falls back to **FashionMNIST** or a small **synthetic** dataset so the full training–evaluation loop always runs—on CPU and on Windows.\n",
    "\n",
    "Three models are trained—**ResNet18**, **DenseNet121** (patched for 28×28), and a lightweight **SimpleCNN**—and combined with a **confidence-weighted ensemble**. The ensemble reduces variance and typically delivers more stable performance than any single network.\n",
    "\n",
    "Key engineering choices ensure reliability:\n",
    "- **Windows-safe data pipeline** (no lambda transforms; `num_workers=0`)\n",
    "- **DenseNet patch** (stride=1, no initial pooling) to avoid over-downsampling\n",
    "- **Target normalization** to handle `(N,1)` or one-hot labels\n",
    "- **Small, self-contained cells** that are easy to read, debug, and extend\n",
    "\n"
   ]
  },
  {
   "cell_type": "code",
   "execution_count": null,
   "id": "f02a54ee-a848-46b1-9f52-58ddb4153979",
   "metadata": {},
   "outputs": [],
   "source": []
  }
 ],
 "metadata": {
  "kernelspec": {
   "display_name": "Python 3 (ipykernel)",
   "language": "python",
   "name": "python3"
  },
  "language_info": {
   "codemirror_mode": {
    "name": "ipython",
    "version": 3
   },
   "file_extension": ".py",
   "mimetype": "text/x-python",
   "name": "python",
   "nbconvert_exporter": "python",
   "pygments_lexer": "ipython3",
   "version": "3.12.4"
  }
 },
 "nbformat": 4,
 "nbformat_minor": 5
}
